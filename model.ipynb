{
 "cells": [
  {
   "cell_type": "code",
   "execution_count": 2,
   "id": "2ac0f89c",
   "metadata": {},
   "outputs": [],
   "source": [
    "import numpy as np\n",
    "import idx2numpy"
   ]
  },
  {
   "cell_type": "code",
   "execution_count": 15,
   "id": "793db103",
   "metadata": {},
   "outputs": [],
   "source": [
    "data = idx2numpy.convert_from_file('data/train.idx3-ubyte')\n",
    "labels = idx2numpy.convert_from_file('data/labels.idx1-ubyte')"
   ]
  },
  {
   "cell_type": "code",
   "execution_count": null,
   "id": "6dd22d0f",
   "metadata": {},
   "outputs": [],
   "source": [
    "B,W,H = data.shape[0], data.shape[1], data.shape[2]\n",
    "data = data / data.reshape(B * W * H).max().item()\n",
    "data = data.reshape(B, W* H)"
   ]
  },
  {
   "cell_type": "code",
   "execution_count": 35,
   "id": "4488eebc",
   "metadata": {},
   "outputs": [],
   "source": [
    "def train_dev_split(data,label,train,dev):\n",
    "    Ntr = int(data.shape[0] * train)\n",
    "    Ndev = int(data.shape[0] * dev)\n",
    "    ind = np.random.randint(low=0,high=data.shape[0],size=(data.shape[0],))\n",
    "    data_shuffled = data[ind]\n",
    "    label_shuffled = label[ind]\n",
    "    Xtr = data_shuffled[:Ntr]\n",
    "    Ytr = label_shuffled[:Ntr]\n",
    "    Xdev = data_shuffled[Ntr:Ntr+Ndev]\n",
    "    Ydev = label_shuffled[Ntr:Ntr+Ndev]\n",
    "    return Xtr,Ytr,Xdev,Ydev\n",
    "Xtr,Ytr,Xdev,Ydev = train_dev_split(data,labels, 0.9,0.1)\n",
    "    "
   ]
  },
  {
   "cell_type": "code",
   "execution_count": 25,
   "id": "8f5a4e32",
   "metadata": {},
   "outputs": [],
   "source": [
    "number_neurons_layer1 = 100\n",
    "number_neurons_layer2 = 100\n",
    "number_inputs = W*H\n",
    "W1 = np.random.randn(number_inputs, number_neurons_layer1) * 5/3 / np.sqrt(number_inputs)\n",
    "b1 = np.random.randn(number_neurons_layer1) * 0.001\n",
    "W2 = np.random.randn(number_neurons_layer1,number_neurons_layer2) / np.sqrt(number_neurons_layer1)\n",
    "b2 = np.random.randn(number_neurons_layer2) * 0.001"
   ]
  }
 ],
 "metadata": {
  "kernelspec": {
   "display_name": "Python 3",
   "language": "python",
   "name": "python3"
  },
  "language_info": {
   "codemirror_mode": {
    "name": "ipython",
    "version": 3
   },
   "file_extension": ".py",
   "mimetype": "text/x-python",
   "name": "python",
   "nbconvert_exporter": "python",
   "pygments_lexer": "ipython3",
   "version": "3.13.7"
  }
 },
 "nbformat": 4,
 "nbformat_minor": 5
}
